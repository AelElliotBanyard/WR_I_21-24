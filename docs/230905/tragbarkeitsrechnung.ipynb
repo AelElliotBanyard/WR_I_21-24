{
 "cells": [
  {
   "cell_type": "markdown",
   "metadata": {},
   "source": [
    "# Tragbarkeitsrechnung\n",
    "\n",
    "Mit diesem Jupyter Notebook soll eine exemplarische Tragbarkeitsrechnung\n",
    "durchgeführt werden.\n",
    "\n",
    "Ausgangslage ist eine Familie mit einem jährlichen Haushaltseinkommen\n",
    "von CHF 200'000. Darüberhinaus verfügt die Familie aus einer Erbschaft\n",
    "über ein Vermögen von CHF 300'000, welches Sie für die Finanzierung\n",
    "einer Liegenschaft einsetzen kann. Der Kaufpreis der Liegenschaft liegt\n",
    "bei CHF 1'500'000."
   ]
  },
  {
   "cell_type": "markdown",
   "metadata": {},
   "source": [
    "Beim Erwerb einer Liegenschaft müssen 20% des Kaufpreises durch\n",
    "Eigenkapital finanziert sein. Ausserdem dürfen die laufenden Kosten\n",
    "nicht mehr als ein Drittel des Einkommens ausmachen.\n",
    "\n",
    "In der Folge werden die Voraussetzungen überprüft."
   ]
  },
  {
   "cell_type": "markdown",
   "metadata": {},
   "source": [
    "## Eigenkapitalvoraussetzung"
   ]
  },
  {
   "cell_type": "code",
   "execution_count": 28,
   "metadata": {},
   "outputs": [],
   "source": [
    "# TODO: prüfe EK Voraussetzungen"
   ]
  },
  {
   "cell_type": "markdown",
   "metadata": {},
   "source": [
    "Die Eigenkapitalvorgabe ist erfüllt. Falls dies nicht der Fall wäre,\n",
    "könnte fehlendes Eigenkapital durch einen Bezug aus der Pensionskasse\n",
    "ergänzt werden. Es müssen aber in jedem Fall 10% hartes Eigenkapital,\n",
    "das heisst Barvermögen, aufgebracht werden können."
   ]
  },
  {
   "cell_type": "markdown",
   "metadata": {},
   "source": [
    "## Laufende Kosten\n",
    "\n",
    "Die laufenden Kosten setzen sich aus folgenden Positionen zusammen:\n",
    "\n",
    "* Hypothekarzinsen\n",
    "* Amortisationsverpflichtung zweite Hypothek\n",
    "* Unterhaltskosten\n",
    "\n",
    "Zu den Kostenpositionen im einzelnen:"
   ]
  },
  {
   "cell_type": "markdown",
   "metadata": {},
   "source": [
    "### Hypothekarzinsen\n",
    "\n",
    "Für die Berechnung der Hypothekarzinsen ist - unabhängig von den\n",
    "effektiv von der Bank offerierten Zinsen - von einem kalkulatorischen\n",
    "Zins von 5% auszugehen."
   ]
  },
  {
   "cell_type": "code",
   "execution_count": 29,
   "metadata": {},
   "outputs": [],
   "source": [
    "# TODO: berechne kalkulatorischen Zins"
   ]
  },
  {
   "cell_type": "markdown",
   "metadata": {},
   "source": [
    "### Amortisationsverpflichtung zweite Hypothek\n",
    "\n",
    "Die Hypothek wird regemässig in zwei Tranchen aufgeteilt. Als Faustregel\n",
    "kann davon ausgegangen werden das die (maximal zulässigen) 80%\n",
    "Fremdkapital in eine erste Hypothek im Umfang von 65% des Kaufpreises\n",
    "und eine zweite Hypothek im Umfang von 15% des Kaufpreieses aufgeteilt\n",
    "werden.\n",
    "\n",
    "Die erste Hypothek steht dann im ersten Pfandrang die zweite im zweiten.\n",
    "Das Bedeutet, dass im Fall der Verwertung der Liegenschaft zuerst der\n",
    "Gläubiger der ersten Hypothek befriedigt wird. Wenn vom Verwertungserlös\n",
    "dann noch etwas übrig bleibt, kommt der Gläubiger der zweiten Hypothek\n",
    "zum Zug. Was dann noch übrig ist, geht an den Schuldner.\n",
    "\n",
    "Aufgrund dieser Rangordnung ist die zweite Hypothek für den Gläubiger\n",
    "etwas risikoreicher als die erste und muss amortisiert (dh.\n",
    "zurückbezahlt) werden. Wiederum als Faustregel stehen dafür 15 Jahre zur\n",
    "Verfügung."
   ]
  },
  {
   "cell_type": "code",
   "execution_count": 30,
   "metadata": {},
   "outputs": [],
   "source": [
    "# TODO: berechne jährliche Amortisation der zweiten Hypothek"
   ]
  },
  {
   "cell_type": "markdown",
   "metadata": {},
   "source": [
    "### Unterhaltskosten\n",
    "\n",
    "Für die Unterhaltskosten wird pauschal mit einem Prozent des\n",
    "Kaufpreieses gerechnet."
   ]
  },
  {
   "cell_type": "code",
   "execution_count": 31,
   "metadata": {},
   "outputs": [],
   "source": [
    "# TODO: berechne die jährlichen Unterhaltskosten"
   ]
  },
  {
   "cell_type": "markdown",
   "metadata": {},
   "source": [
    "### Total Kosten"
   ]
  },
  {
   "cell_type": "code",
   "execution_count": 32,
   "metadata": {},
   "outputs": [],
   "source": [
    "# TODO: berechne die totalen jährlichen Kosten"
   ]
  },
  {
   "cell_type": "markdown",
   "metadata": {},
   "source": [
    "### Tragbarkeit"
   ]
  },
  {
   "cell_type": "code",
   "execution_count": 33,
   "metadata": {},
   "outputs": [],
   "source": [
    "# TODO: prüfe die Tragbarkeit der jährlichen Kosten"
   ]
  },
  {
   "cell_type": "markdown",
   "metadata": {},
   "source": [
    "### Konsequenz aus der aktuellen Situation"
   ]
  }
 ],
 "metadata": {
  "kernelspec": {
   "display_name": "Python 3",
   "language": "python",
   "name": "python3"
  },
  "language_info": {
   "codemirror_mode": {
    "name": "ipython",
    "version": 3
   },
   "file_extension": ".py",
   "mimetype": "text/x-python",
   "name": "python",
   "nbconvert_exporter": "python",
   "pygments_lexer": "ipython3",
   "version": "3.11.5"
  },
  "orig_nbformat": 4
 },
 "nbformat": 4,
 "nbformat_minor": 2
}
