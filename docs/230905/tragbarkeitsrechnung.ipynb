{
 "cells": [
  {
   "cell_type": "markdown",
   "metadata": {},
   "source": [
    "# Tragbarkeitsrechnung\n",
    "\n",
    "Mit diesem Jupyter Notebook soll eine exemplarische Tragbarkeitsrechnung\n",
    "durchgeführt werden.\n",
    "\n",
    "Ausgangslage ist eine Familie mit einem jährlichen Haushaltseinkommen\n",
    "von CHF 200'000. Darüberhinaus verfügt die Familie aus einer Erbschaft\n",
    "über ein Vermögen von CHF 300'000, welches Sie für die Finanzierung\n",
    "einer Liegenschaft einsetzen kann. Der Kaufpreis der Liegenschaft liegt\n",
    "bei CHF 1'500'000."
   ]
  },
  {
   "cell_type": "markdown",
   "metadata": {},
   "source": [
    "Beim Erwerb einer Liegenschaft müssen 20% des Kaufpreises durch\n",
    "Eigenkapital finanziert sein. Ausserdem dürfen die laufenden Kosten\n",
    "nicht mehr als ein Drittel des Einkommens ausmachen.\n",
    "\n",
    "In der Folge werden die Voraussetzungen überprüft."
   ]
  },
  {
   "cell_type": "markdown",
   "metadata": {},
   "source": [
    "## Eigenkapitalvoraussetzung"
   ]
  },
  {
   "cell_type": "code",
   "execution_count": 1,
   "metadata": {},
   "outputs": [
    {
     "data": {
      "text/plain": [
       "True"
      ]
     },
     "execution_count": 1,
     "metadata": {},
     "output_type": "execute_result"
    }
   ],
   "source": [
    "300_000 <= 0.2 * 1_500_000"
   ]
  },
  {
   "cell_type": "markdown",
   "metadata": {},
   "source": [
    "Die Eigenkapitalvorgabe ist erfüllt. Falls dies nicht der Fall wäre,\n",
    "könnte fehlendes Eigenkapital durch einen Bezug aus der Pensionskasse\n",
    "ergänzt werden. Es müssen aber in jedem Fall 10% hartes Eigenkapital,\n",
    "das heisst Barvermögen, aufgebracht werden können."
   ]
  },
  {
   "cell_type": "markdown",
   "metadata": {},
   "source": [
    "## Laufende Kosten\n",
    "\n",
    "Die laufenden Kosten setzen sich aus folgenden Positionen zusammen:\n",
    "\n",
    "* Hypothekarzinsen\n",
    "* Amortisationsverpflichtung zweite Hypothek\n",
    "* Unterhaltskosten\n",
    "\n",
    "Zu den Kostenpositionen im einzelnen:"
   ]
  },
  {
   "cell_type": "markdown",
   "metadata": {},
   "source": [
    "### Hypothekarzinsen\n",
    "\n",
    "Für die Berechnung der Hypothekarzinsen ist - unabhängig von den\n",
    "effektiv von der Bank offerierten Zinsen - von einem kalkulatorischen\n",
    "Zins von 5% auszugehen."
   ]
  },
  {
   "cell_type": "code",
   "execution_count": 4,
   "metadata": {},
   "outputs": [
    {
     "name": "stdout",
     "output_type": "stream",
     "text": [
      "Der kalkulatorische Zins beläuft sich auf CHF 60000.0.\n"
     ]
    }
   ],
   "source": [
    "Kaufpreis = 1_500_000\n",
    "EK = 300_000\n",
    "FK = Kaufpreis - EK\n",
    "kalkulatorischer_zins = FK * 0.05\n",
    "print(f\"Der kalkulatorische Zins beläuft sich auf CHF {kalkulatorischer_zins}.\")"
   ]
  },
  {
   "cell_type": "markdown",
   "metadata": {},
   "source": [
    "### Amortisationsverpflichtung zweite Hypothek\n",
    "\n",
    "Die Hypothek wird regemässig in zwei Tranchen aufgeteilt. Als Faustregel\n",
    "kann davon ausgegangen werden das die (maximal zulässigen) 80%\n",
    "Fremdkapital in eine erste Hypothek im Umfang von 65% des Kaufpreises\n",
    "und eine zweite Hypothek im Umfang von 15% des Kaufpreieses aufgeteilt\n",
    "werden.\n",
    "\n",
    "Die erste Hypothek steht dann im ersten Pfandrang die zweite im zweiten.\n",
    "Das Bedeutet, dass im Fall der Verwertung der Liegenschaft zuerst der\n",
    "Gläubiger der ersten Hypothek befriedigt wird. Wenn vom Verwertungserlös\n",
    "dann noch etwas übrig bleibt, kommt der Gläubiger der zweiten Hypothek\n",
    "zum Zug. Was dann noch übrig ist, geht an den Schuldner.\n",
    "\n",
    "Aufgrund dieser Rangordnung ist die zweite Hypothek für den Gläubiger\n",
    "etwas risikoreicher als die erste und muss amortisiert (dh.\n",
    "zurückbezahlt) werden. Wiederum als Faustregel stehen dafür 15 Jahre zur\n",
    "Verfügung."
   ]
  },
  {
   "cell_type": "code",
   "execution_count": 5,
   "metadata": {},
   "outputs": [
    {
     "name": "stdout",
     "output_type": "stream",
     "text": [
      "Die jährliche Amortisation beläuft sich auf CHF 15000.0.\n"
     ]
    }
   ],
   "source": [
    "hypo2 = Kaufpreis * 0.15\n",
    "amortisation = hypo2 / 15\n",
    "print(f\"Die jährliche Amortisation beläuft sich auf CHF {amortisation}.\")"
   ]
  },
  {
   "cell_type": "markdown",
   "metadata": {},
   "source": [
    "### Unterhaltskosten\n",
    "\n",
    "Für die Unterhaltskosten wird pauschal mit einem Prozent des\n",
    "Kaufpreieses gerechnet."
   ]
  },
  {
   "cell_type": "code",
   "execution_count": 6,
   "metadata": {},
   "outputs": [
    {
     "name": "stdout",
     "output_type": "stream",
     "text": [
      "Die jährlichen Untrehaltskosten belaufen sich auf CHF 15000.0.\n"
     ]
    }
   ],
   "source": [
    "unterhaltskosten = Kaufpreis / 100\n",
    "print(f\"Die jährlichen Untrehaltskosten belaufen sich auf CHF {unterhaltskosten}.\")"
   ]
  },
  {
   "cell_type": "markdown",
   "metadata": {},
   "source": [
    "### Total Kosten"
   ]
  },
  {
   "cell_type": "code",
   "execution_count": 9,
   "metadata": {},
   "outputs": [
    {
     "name": "stdout",
     "output_type": "stream",
     "text": [
      "Die gesamten jährlichen Unterhaltskosten belaufen sich auf CHF 90000.0.\n"
     ]
    }
   ],
   "source": [
    "print(f\"Die gesamten jährlichen Unterhaltskosten belaufen sich auf CHF {kalkulatorischer_zins + amortisation + unterhaltskosten}.\")"
   ]
  },
  {
   "cell_type": "markdown",
   "metadata": {},
   "source": [
    "### Tragbarkeit"
   ]
  },
  {
   "cell_type": "code",
   "execution_count": 11,
   "metadata": {},
   "outputs": [
    {
     "data": {
      "text/plain": [
       "False"
      ]
     },
     "execution_count": 11,
     "metadata": {},
     "output_type": "execute_result"
    }
   ],
   "source": [
    "200_000 / 3 >= amortisation + kalkulatorischer_zins + unterhaltskosten"
   ]
  },
  {
   "cell_type": "markdown",
   "metadata": {},
   "source": [
    "### Konsequenz aus der aktuellen Situation\n",
    "\n",
    "Die aktuelle Finanzierung ist ungenügend. Es kann nun noch geprüft\n",
    "werden, ob die Situation mit einem Pensionskassenvorbezug gerettet\n",
    "werden kann."
   ]
  },
  {
   "cell_type": "code",
   "execution_count": 16,
   "metadata": {},
   "outputs": [
    {
     "name": "stdout",
     "output_type": "stream",
     "text": [
      "200000\n"
     ]
    }
   ],
   "source": [
    "def pk_beitrag(einkommen : int,\n",
    "               kaufpreis : int,\n",
    "               hartes_ek : int,\n",
    "               pk = 0):\n",
    "    \"\"\"Die Funktion berechnet, wie hoch der Beitrag aus der\n",
    "    Pensionskasse sein muss, damit die Hypothekarische Belastung tragbar\n",
    "    ist.\n",
    "\n",
    "    Args:\n",
    "        einkommen (int): Bruttoeinkommen des Käufers\n",
    "        kaufpreis (int): Kaufpreis der Liegenschaft\n",
    "        hartes_ek (int): effektiv Verfügbares EK\n",
    "        pk (int, optional): Anteil der Pensionskasse an der Finanzierung. Defaults to 0.\n",
    "\n",
    "    Returns:\n",
    "        int: Anteil der Pensionskasse an der Finanzierung\n",
    "    \"\"\"\n",
    "    unterhalt = kaufpreis / 100\n",
    "    kalkulatorischer_zins = (kaufpreis - hartes_ek - pk) * 0.05\n",
    "    amortisation = (kaufpreis - hartes_ek - pk - kaufpreis * 0.65) / 15\n",
    "    kosten = unterhalt + kalkulatorischer_zins + amortisation\n",
    "    if kosten <= einkommen / 3:\n",
    "        return pk\n",
    "    else:\n",
    "        pk += 100\n",
    "        return pk_beitrag(einkommen, kaufpreis, hartes_ek, pk)\n",
    "\n",
    "print(pk_beitrag(200_000, 1_500_000, 300_000))\n",
    "    \n",
    "\n",
    "    "
   ]
  },
  {
   "cell_type": "markdown",
   "metadata": {},
   "source": [
    "Bei einem Kaufpreis von CHF 1'500'000, verfügbarem Eigenkapital von CHF\n",
    "300'000 und einem jährlichen Bruttoeinkommen von CHF 200'000 braucht es\n",
    "einen Beitrag aus der Pensionskasse von CHF 200'000 damit die\n",
    "Liegenschaft finanziell tragbar ist."
   ]
  }
 ],
 "metadata": {
  "kernelspec": {
   "display_name": "Python 3",
   "language": "python",
   "name": "python3"
  },
  "language_info": {
   "codemirror_mode": {
    "name": "ipython",
    "version": 3
   },
   "file_extension": ".py",
   "mimetype": "text/x-python",
   "name": "python",
   "nbconvert_exporter": "python",
   "pygments_lexer": "ipython3",
   "version": "3.11.5"
  },
  "orig_nbformat": 4
 },
 "nbformat": 4,
 "nbformat_minor": 2
}
