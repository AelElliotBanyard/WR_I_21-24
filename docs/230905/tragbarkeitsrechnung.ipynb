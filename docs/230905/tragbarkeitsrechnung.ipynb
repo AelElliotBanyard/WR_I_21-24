{
 "cells": [
  {
   "cell_type": "markdown",
   "metadata": {},
   "source": [
    "# Tragbarkeitsrechnung\n",
    "\n",
    "Mit diesem Jupyter Notebook soll eine exemplarische Tragbarkeitsrechnung\n",
    "durchgeführt werden.\n",
    "\n",
    "Ausgangslage ist eine Familie mit einem jährlichen Haushaltseinkommen\n",
    "von CHF 200'000. Darüberhinaus verfügt die Familie aus einer Erbschaft\n",
    "über ein Vermögen von CHF 300'000, welches Sie für die Finanzierung\n",
    "einer Liegenschaft einsetzen kann. Der Kaufpreis der Liegenschaft liegt\n",
    "bei CHF 1'500'000."
   ]
  },
  {
   "cell_type": "markdown",
   "metadata": {},
   "source": [
    "Beim Erwerb einer Liegenschaft müssen 20% des Kaufpreises durch\n",
    "Eigenkapital finanziert sein. Ausserdem dürfen die laufenden Kosten\n",
    "nicht mehr als ein Drittel des Einkommens ausmachen."
   ]
  }
 ],
 "metadata": {
  "language_info": {
   "name": "python"
  },
  "orig_nbformat": 4
 },
 "nbformat": 4,
 "nbformat_minor": 2
}
